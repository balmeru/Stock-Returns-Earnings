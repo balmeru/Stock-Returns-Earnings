{
 "cells": [
  {
   "cell_type": "code",
   "execution_count": 1,
   "id": "f251f49b-8299-4484-b46d-524a11c6bc2f",
   "metadata": {},
   "outputs": [],
   "source": [
    "import pandas as pd\n",
    "import numpy as np\n",
    "from datetime import timedelta\n",
    "\n",
    "# Load the data\n",
    "csv_file_path = \"/Users/balmeru/Downloads/ggplot.csv\"\n",
    "df = pd.read_csv(csv_file_path)\n",
    "\n",
    "# Ensure 'rdq' is properly formatted as datetime and 'fyr' as numeric\n",
    "df['rdq'] = pd.to_datetime(df['rdq'], errors='coerce')\n",
    "df['fyr'] = pd.to_numeric(df['fyr'], errors='coerce')\n",
    "\n",
    "# Sort by 'tic' (ticker), 'fyearq' (fiscal year), and 'fqtr' (fiscal quarter)\n",
    "df = df.sort_values(by=['tic', 'fyearq', 'fqtr']).reset_index(drop=True)\n"
   ]
  },
  {
   "cell_type": "code",
   "execution_count": 2,
   "id": "366f6adb-e212-4d91-9385-1384af032c80",
   "metadata": {},
   "outputs": [],
   "source": [
    "# Identify ticker changes and detect fiscal year changes per ticker\n",
    "ticker_change = df['tic'] != df['tic'].shift(1)\n",
    "df['fyr_change_dummy'] = ((df['fyr'] != df['fyr'].shift(1)) & (~ticker_change)).astype(int)\n",
    "\n",
    "# Ensure the first row of each group (per ticker) doesn't indicate a fiscal year change\n",
    "df.loc[df.groupby('tic').head(1).index, 'fyr_change_dummy'] = 0"
   ]
  },
  {
   "cell_type": "code",
   "execution_count": 3,
   "id": "35017735-a2b6-41cf-a506-90b4e9b8a4d5",
   "metadata": {},
   "outputs": [],
   "source": [
    "# Remove duplicate rows based on unique combinations of 'tic', 'fyearq', and 'fqtr'\n",
    "df = df.drop_duplicates(subset=['tic', 'fyearq', 'fqtr'], keep='first').reset_index(drop=True)\n"
   ]
  },
  {
   "cell_type": "code",
   "execution_count": 4,
   "id": "6d72d828-898f-4d80-9f82-1638856203b0",
   "metadata": {},
   "outputs": [
    {
     "data": {
      "text/plain": [
       "1075450"
      ]
     },
     "execution_count": 4,
     "metadata": {},
     "output_type": "execute_result"
    }
   ],
   "source": [
    "len(df)\n"
   ]
  },
  {
   "cell_type": "code",
   "execution_count": 5,
   "id": "24127ba6-7a5f-4442-9863-f4b4dc48d0e7",
   "metadata": {},
   "outputs": [
    {
     "name": "stdout",
     "output_type": "stream",
     "text": [
      "         GVKEY    datadate  fyearq  fqtr  fyr indfmt consol popsrc datafmt  \\\n",
      "0         2484  1983-07-31    1983     3   10   INDL      C      D     STD   \n",
      "1         2484  1983-10-31    1983     4   10   INDL      C      D     STD   \n",
      "2         2484  1984-01-31    1984     1   10   INDL      C      D     STD   \n",
      "3         2484  1984-04-30    1984     2   10   INDL      C      D     STD   \n",
      "4         2484  1984-07-31    1984     3   10   INDL      C      D     STD   \n",
      "...        ...         ...     ...   ...  ...    ...    ...    ...     ...   \n",
      "1075445  30165  1999-06-30    1999     2   12   INDL      C      D     STD   \n",
      "1075446  30165  1999-09-30    1999     3   12   INDL      C      D     STD   \n",
      "1075447  30165  1999-12-31    1999     4   12   INDL      C      D     STD   \n",
      "1075448  30165  2000-03-31    2000     1   12   INDL      C      D     STD   \n",
      "1075449  30165  2000-06-30    2000     2   12   INDL      C      D     STD   \n",
      "\n",
      "           tic  ...      lseq       ltq pstkq teqq txdbq  dvpy  costat  \\\n",
      "0        0015B  ...   108.437    31.757   0.0  NaN   NaN   NaN       I   \n",
      "1        0015B  ...   131.827    52.323   0.0  NaN   NaN   NaN       I   \n",
      "2        0015B  ...   128.734    38.739   0.0  NaN   NaN   0.0       I   \n",
      "3        0015B  ...   127.905    35.462   0.0  NaN   NaN   NaN       I   \n",
      "4        0015B  ...   129.630    37.178   0.0  NaN   NaN   NaN       I   \n",
      "...        ...  ...       ...       ...   ...  ...   ...   ...     ...   \n",
      "1075445   ZZZ1  ...  2511.398  1406.540   0.7  NaN   NaN   0.0       A   \n",
      "1075446   ZZZ1  ...  2639.062  1526.796   0.7  NaN   NaN   0.0       A   \n",
      "1075447   ZZZ1  ...  2905.644  1620.015   0.7  NaN   NaN   0.0       A   \n",
      "1075448   ZZZ1  ...  2792.078  1478.428   0.7  NaN   NaN   0.0       A   \n",
      "1075449   ZZZ1  ...  2979.502  1636.802   0.0  NaN   NaN   0.0       A   \n",
      "\n",
      "         mkvaltq      prccq  fyr_change_dummy  \n",
      "0            NaN  33.999977                 0  \n",
      "1            NaN  29.499977                 0  \n",
      "2            NaN  19.749991                 0  \n",
      "3            NaN  18.499990                 0  \n",
      "4            NaN  16.999992                 0  \n",
      "...          ...        ...               ...  \n",
      "1075445      NaN  52.000000                 0  \n",
      "1075446      NaN  51.687500                 0  \n",
      "1075447      NaN  52.125000                 0  \n",
      "1075448      NaN  73.437500                 0  \n",
      "1075449      NaN  75.875000                 0  \n",
      "\n",
      "[1075450 rows x 30 columns]\n"
     ]
    }
   ],
   "source": [
    "def propagate_dummy_values(df):\n",
    "    # Iterate through each unique ticker\n",
    "    for tic in df['tic'].unique():\n",
    "        # Filter for the specific ticker\n",
    "        tic_df = df[df['tic'] == tic]\n",
    "       \n",
    "        # Iterate through each row of the filtered DataFrame\n",
    "        for index, row in tic_df.iterrows():\n",
    "            if row['fyr_change_dummy'] == 1:\n",
    "                start_year = row['fyearq']\n",
    "                start_quarter = row['fqtr']\n",
    "               \n",
    "                # Calculate the next year and the quarter indices to update\n",
    "                for q in range(1, 4):  # Next 3 quarters\n",
    "                    current_quarter = start_quarter + q\n",
    "                    current_year = start_year\n",
    "                   \n",
    "                    if current_quarter > 4:\n",
    "                        current_quarter -= 4\n",
    "                        current_year += 1\n",
    "\n",
    "                    # Update the DataFrame based on the new year and quarter\n",
    "                    mask = (df['tic'] == tic) & (df['fyearq'] == current_year) & (df['fqtr'] == current_quarter)\n",
    "                    df.loc[mask, 'fyr_change_dummy'] = 1\n",
    "\n",
    "    return df\n",
    "\n",
    "# Run the function and print the updated DataFrame\n",
    "df = propagate_dummy_values(df)\n",
    "print(df)"
   ]
  },
  {
   "cell_type": "code",
   "execution_count": 6,
   "id": "6731075f-e112-49cb-aaad-271c7b881888",
   "metadata": {},
   "outputs": [],
   "source": [
    "df.to_csv('/Users/balmeru/Downloads/propagated_data.csv', index=False)"
   ]
  },
  {
   "cell_type": "code",
   "execution_count": 7,
   "id": "081e5f6c-5555-4b49-9152-c4cea56d4037",
   "metadata": {},
   "outputs": [
    {
     "name": "stdout",
     "output_type": "stream",
     "text": [
      "Missing data summary before filling:\n",
      " ajexq        3\n",
      "prccq    26043\n",
      "cshoq    45672\n",
      "dtype: int64\n",
      "Missing data percentage before filling:\n",
      " ajexq    0.000279\n",
      "prccq    2.421591\n",
      "cshoq    4.246780\n",
      "dtype: float64\n",
      "Missing data summary after filling:\n",
      " ajexq        0\n",
      "prccq     1962\n",
      "cshoq    11840\n",
      "dtype: int64\n",
      "Missing data percentage after filling:\n",
      " ajexq    0.000000\n",
      "prccq    0.182435\n",
      "cshoq    1.100934\n",
      "dtype: float64\n"
     ]
    }
   ],
   "source": [
    "def handle_missing_data(df):\n",
    "    # Define the columns to check for missing values\n",
    "    columns_to_check = ['ajexq', 'prccq', 'cshoq']\n",
    "    \n",
    "    # Check if columns exist in the DataFrame\n",
    "    missing_columns = [col for col in columns_to_check if col not in df.columns]\n",
    "    \n",
    "    if missing_columns:\n",
    "        print(f\"Warning: The following columns are missing in the DataFrame: {missing_columns}\")\n",
    "        columns_to_check = [col for col in columns_to_check if col in df.columns]  # Adjust the list\n",
    "\n",
    "    # Display missing data summary before filling\n",
    "    missing_data_summary_before = df[columns_to_check].isnull().sum()\n",
    "    print(\"Missing data summary before filling:\\n\", missing_data_summary_before)\n",
    "    \n",
    "    # Calculate and display missing data percentage before filling\n",
    "    missing_data_percentage_before = df[columns_to_check].isnull().mean() * 100\n",
    "    print(\"Missing data percentage before filling:\\n\", missing_data_percentage_before)\n",
    "\n",
    "    # Group by 'tic' (ticker) and interpolate missing values\n",
    "    for column in columns_to_check:\n",
    "        if column in df.columns:\n",
    "            df[column] = df.groupby('tic')[column].transform(lambda x: x.interpolate(method='linear'))\n",
    "\n",
    "    missing_data_summary_after = df[columns_to_check].isnull().sum()\n",
    "    print(\"Missing data summary after filling:\\n\", missing_data_summary_after)\n",
    "    \n",
    "    # Calculate and display missing data percentage after filling\n",
    "    missing_data_percentage_after = df[columns_to_check].isnull().mean() * 100\n",
    "    print(\"Missing data percentage after filling:\\n\", missing_data_percentage_after)\n",
    "\n",
    "    return df\n",
    "\n",
    "# Handle missing data\n",
    "df = handle_missing_data(df)"
   ]
  },
  {
   "cell_type": "code",
   "execution_count": 8,
   "id": "fa622a34-60b4-4a3d-8879-af58ae808d1c",
   "metadata": {},
   "outputs": [],
   "source": [
    "df.to_csv('/Users/balmeru/Downloads/handle_missing_values.csv', index=False)"
   ]
  }
 ],
 "metadata": {
  "kernelspec": {
   "display_name": "Python 3 (ipykernel)",
   "language": "python",
   "name": "python3"
  },
  "language_info": {
   "codemirror_mode": {
    "name": "ipython",
    "version": 3
   },
   "file_extension": ".py",
   "mimetype": "text/x-python",
   "name": "python",
   "nbconvert_exporter": "python",
   "pygments_lexer": "ipython3",
   "version": "3.11.7"
  }
 },
 "nbformat": 4,
 "nbformat_minor": 5
}
