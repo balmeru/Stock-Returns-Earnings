{
 "cells": [
  {
   "cell_type": "code",
   "execution_count": 1,
   "id": "20996a82-e413-4687-86f1-2266096bfbea",
   "metadata": {},
   "outputs": [
    {
     "name": "stderr",
     "output_type": "stream",
     "text": [
      "C:\\Users\\balmeru\\AppData\\Local\\Temp\\ipykernel_4440\\537418917.py:34: SettingWithCopyWarning: \n",
      "A value is trying to be set on a copy of a slice from a DataFrame.\n",
      "Try using .loc[row_indexer,col_indexer] = value instead\n",
      "\n",
      "See the caveats in the documentation: https://pandas.pydata.org/pandas-docs/stable/user_guide/indexing.html#returning-a-view-versus-a-copy\n",
      "  filtered_df['median_distance'] = np.nan\n"
     ]
    }
   ],
   "source": [
    "import pandas as pd\n",
    "import numpy as np\n",
    "csv_file_path = \"/Users/balmeru/Downloads/with_diff.csv\"\n",
    "df = pd.read_csv(csv_file_path)\n",
    "# Define columns to keep\n",
    "columns_to_keep = [\n",
    "    'datadate', 'fyearq', 'fqtr', 'fyr', 'tic', 'ajexq', 'datafqtr', \n",
    "    'rdq', 'atq', 'ceqq', 'cshoq', 'dvpq', 'ibq', 'lseq', 'ltq', \n",
    "    'pstkq', 'teqq', 'txdbq', 'prccq', 'fyr_change_dummy', 'diff', \n",
    "    'quarterly_report', 'annual_report', 'quarter_distance', \n",
    "    'annual_distance', 'market_cap', 'lower_bound', 'upper_bound'\n",
    "]\n",
    "\n",
    "# Keep only the selected columns\n",
    "df = df[columns_to_keep]\n",
    "\n",
    "# Data preparation\n",
    "df['txdbq'] = df['txdbq'].fillna(0)\n",
    "df['dvpq'] = df['dvpq'].fillna(0)\n",
    "df['rdq'] = pd.to_datetime(df['rdq'], errors='coerce')\n",
    "\n",
    "# Create dummy variables\n",
    "df['income_good'] = ~df['ibq'].isna()\n",
    "df['se1_good'] = ~df['teqq'].isna()\n",
    "df['se2_good'] = ~df['ceqq'].isna() & ~df['pstkq'].isna()\n",
    "df['se3_good'] = ~df['atq'].isna() & ~df['ltq'].isna()  # Fixed logical error\n",
    "\n",
    "# Filter DataFrame based on conditions\n",
    "filtered_df = df[\n",
    "    df['income_good'] & (df['se1_good'] | df['se2_good'] | df['se3_good'])\n",
    "]\n",
    "\n",
    "# Initialize median_distance column\n",
    "filtered_df['median_distance'] = np.nan\n",
    "\n",
    "# Function to find median distance for a given row\n",
    "def find_median_distance(row, report_type):\n",
    "    distance_col = 'quarter_distance' if report_type == 'quarterly' else 'annual_distance'\n",
    "    mask = (\n",
    "        (filtered_df['tic'] != row['tic']) &\n",
    "        (filtered_df['market_cap'].between(row['lower_bound'], row['upper_bound'])) &\n",
    "        (filtered_df['fyearq'].between(row['fyearq'] - 1, row['fyearq'] + 1)) &\n",
    "        (filtered_df['fyr_change_dummy'] == 0) &\n",
    "        (filtered_df[f'{report_type}_report'] == 1)\n",
    "    )\n",
    "    \n",
    "    distances = filtered_df.loc[mask, distance_col]\n",
    "    return distances.median() if not distances.empty else np.nan\n",
    "\n",
    "# Vectorized operation to calculate median_distance\n",
    "for report_type in ['quarterly', 'annual']:\n",
    "    mask = (filtered_df['fyr_change_dummy'] == 1) & (filtered_df[f'{report_type}_report'] == 1)\n",
    "    filtered_df.loc[mask, 'median_distance'] = filtered_df[mask].apply(\n",
    "        lambda row: find_median_distance(row, report_type), axis=1\n",
    "    )\n",
    "\n",
    "# Save the filtered DataFrame to CSV\n",
    "filtered_df.to_csv('/Users/balmeru/Desktop/mediana.csv', index=False)\n"
   ]
  },
  {
   "cell_type": "code",
   "execution_count": 2,
   "id": "32a03d2a-8dfc-413c-b89c-2e078e6e29be",
   "metadata": {},
   "outputs": [
    {
     "name": "stdout",
     "output_type": "stream",
     "text": [
      "Number of fiscal year changes: 6740\n",
      "Number of valid median distances: 6723\n"
     ]
    }
   ],
   "source": [
    "\n",
    "\n",
    "\n",
    "# Count the number of fiscal year changes\n",
    "fyr_change_count = filtered_df['fyr_change_dummy'].sum()\n",
    "\n",
    "# Count the number of valid median distances (non-NaN)\n",
    "median_distance_count = filtered_df['median_distance'].count()\n",
    "\n",
    "# Display the results\n",
    "print(f\"Number of fiscal year changes: {fyr_change_count}\")\n",
    "print(f\"Number of valid median distances: {median_distance_count}\")"
   ]
  },
  {
   "cell_type": "code",
   "execution_count": 3,
   "id": "cf9fc2a4-593b-4aad-9f9d-12b90515596a",
   "metadata": {},
   "outputs": [
    {
     "name": "stdout",
     "output_type": "stream",
     "text": [
      "Quarterly Median Distance Summary:\n",
      "count    4995.000000\n",
      "mean       89.868368\n",
      "std         1.838368\n",
      "min        35.000000\n",
      "25%        89.000000\n",
      "50%        90.000000\n",
      "75%        91.000000\n",
      "max        96.000000\n",
      "Name: quarterly_median_distance, dtype: float64\n",
      "Number of quarterly median distances: 4995\n",
      "\n",
      "Annual Median Distance Summary:\n",
      "count    1728.000000\n",
      "mean      112.804398\n",
      "std         8.665013\n",
      "min        98.000000\n",
      "25%       105.000000\n",
      "50%       112.000000\n",
      "75%       119.000000\n",
      "max       156.000000\n",
      "Name: annual_median_distance, dtype: float64\n",
      "Number of annual median distances: 1728\n"
     ]
    },
    {
     "name": "stderr",
     "output_type": "stream",
     "text": [
      "C:\\Users\\balmeru\\AppData\\Local\\Temp\\ipykernel_4440\\3970544974.py:1: SettingWithCopyWarning: \n",
      "A value is trying to be set on a copy of a slice from a DataFrame.\n",
      "Try using .loc[row_indexer,col_indexer] = value instead\n",
      "\n",
      "See the caveats in the documentation: https://pandas.pydata.org/pandas-docs/stable/user_guide/indexing.html#returning-a-view-versus-a-copy\n",
      "  filtered_df['quarterly_median_distance'] = np.where(\n",
      "C:\\Users\\balmeru\\AppData\\Local\\Temp\\ipykernel_4440\\3970544974.py:7: SettingWithCopyWarning: \n",
      "A value is trying to be set on a copy of a slice from a DataFrame.\n",
      "Try using .loc[row_indexer,col_indexer] = value instead\n",
      "\n",
      "See the caveats in the documentation: https://pandas.pydata.org/pandas-docs/stable/user_guide/indexing.html#returning-a-view-versus-a-copy\n",
      "  filtered_df['annual_median_distance'] = np.where(\n"
     ]
    }
   ],
   "source": [
    "filtered_df['quarterly_median_distance'] = np.where(\n",
    "    (filtered_df['fyr_change_dummy'] == 1) & (filtered_df['quarterly_report'] == 1),\n",
    "    filtered_df['median_distance'],\n",
    "    np.nan\n",
    ")\n",
    "\n",
    "filtered_df['annual_median_distance'] = np.where(\n",
    "    (filtered_df['fyr_change_dummy'] == 1) & (filtered_df['annual_report'] == 1),\n",
    "    filtered_df['median_distance'],\n",
    "    np.nan\n",
    ")\n",
    "\n",
    "# Generate a summary\n",
    "quarterly_summary = filtered_df['quarterly_median_distance'].describe()\n",
    "annual_summary = filtered_df['annual_median_distance'].describe()\n",
    "\n",
    "# Count the number of non-NaN values in each new column\n",
    "quarterly_count = filtered_df['quarterly_median_distance'].count()\n",
    "annual_count = filtered_df['annual_median_distance'].count()\n",
    "\n",
    "# Display the results\n",
    "print(\"Quarterly Median Distance Summary:\")\n",
    "print(quarterly_summary)\n",
    "print(f\"Number of quarterly median distances: {quarterly_count}\")\n",
    "\n",
    "print(\"\\nAnnual Median Distance Summary:\")\n",
    "print(annual_summary)\n",
    "print(f\"Number of annual median distances: {annual_count}\")\n"
   ]
  },
  {
   "cell_type": "code",
   "execution_count": 7,
   "id": "db6a6f35-6077-4922-a421-28a627f05e0c",
   "metadata": {},
   "outputs": [
    {
     "name": "stdout",
     "output_type": "stream",
     "text": [
      "      datadate  fyearq  fqtr  fyr    tic     ajexq datafqtr        rdq  \\\n",
      "22  1988-09-30    1989     1    6  0015B  4.049999   1989Q1 1989-03-10   \n",
      "23  1988-12-31    1989     2    6  0015B  4.049999   1989Q2 1989-06-07   \n",
      "24  1989-03-31    1989     3    6  0015B  4.049999   1989Q3        NaT   \n",
      "25  1989-06-30    1989     4    6  0015B  4.049999   1989Q4        NaT   \n",
      "58  1998-08-31    1998     1    5  0015B  1.000000   1998Q1 1998-09-23   \n",
      "\n",
      "        atq     ceqq  ...  market_cap  lower_bound  upper_bound  income_good  \\\n",
      "22  344.741  167.541  ...   59.957619    47.966095    71.949143         True   \n",
      "23  371.280  195.335  ...   49.831616    39.865293    59.797939         True   \n",
      "24  338.460  196.967  ...   59.710664    47.768531    71.652797         True   \n",
      "25  329.104  193.809  ...   67.422199    53.937759    80.906638         True   \n",
      "58  917.784  504.163  ...  991.896313   793.517050  1190.275575         True   \n",
      "\n",
      "    se1_good  se2_good  se3_good  median_distance  quarterly_median_distance  \\\n",
      "22     False      True      True             90.0                       90.0   \n",
      "23     False      True      True             90.0                       90.0   \n",
      "24     False      True      True             90.0                       90.0   \n",
      "25     False      True      True            113.0                        NaN   \n",
      "58     False      True      True             91.0                       91.0   \n",
      "\n",
      "    annual_median_distance  \n",
      "22                     NaN  \n",
      "23                     NaN  \n",
      "24                     NaN  \n",
      "25                   113.0  \n",
      "58                     NaN  \n",
      "\n",
      "[5 rows x 35 columns]\n"
     ]
    }
   ],
   "source": [
    "# Filter the DataFrame where fyr_change is equal to 1\n",
    "see = filtered_df[filtered_df['fyr_change_dummy'] == 1]\n",
    "\n",
    "# Print the first few rows of the filtered DataFrame\n",
    "print(see.head())\n"
   ]
  },
  {
   "cell_type": "code",
   "execution_count": 11,
   "id": "2187dc53-d5ee-4c6e-88f1-3ef2835bf482",
   "metadata": {},
   "outputs": [],
   "source": [
    "import pandas as pd\n",
    "import numpy as np\n",
    "\n",
    "# Load the filtered DataFrame from the CSV file\n",
    "filtered_df = pd.read_csv('/Users/balmeru/Desktop/mediana.csv', parse_dates=['rdq'])\n",
    "\n",
    "# Define a function to calculate the previous quarter given the current quarter and fiscal year\n",
    "def calculate_previous_quarter(fqtr, fyearq):\n",
    "    if fqtr > 1:\n",
    "        return fqtr - 1, fyearq\n",
    "    else:\n",
    "        return 4, fyearq - 1\n",
    "\n",
    "# Calculate expected_date for fyr_change_dummy == 1\n",
    "mask_fyr_change = (filtered_df['fyr_change_dummy'] == 1) & (filtered_df['median_distance'].notna())\n",
    "for idx, row in filtered_df.loc[mask_fyr_change].iterrows():\n",
    "    prev_fqtr, prev_fyearq = calculate_previous_quarter(row['fqtr'], row['fyearq'])\n",
    "    prev_row = filtered_df[(filtered_df['tic'] == row['tic']) & (filtered_df['fyearq'] == prev_fyearq) & (filtered_df['fqtr'] == prev_fqtr)]\n",
    "    if not prev_row.empty:\n",
    "        prev_rdq = prev_row.iloc[0]['rdq']\n",
    "        if pd.notna(prev_rdq):\n",
    "            expected_date = prev_rdq + pd.Timedelta(days=row['median_distance'])\n",
    "            filtered_df.at[idx, 'expected_date'] = expected_date\n",
    "\n",
    "# Calculate expected_date for fyr_change_dummy == 0\n",
    "mask_no_fyr_change = (filtered_df['fyr_change_dummy'] == 0)\n",
    "for idx, row in filtered_df.loc[mask_no_fyr_change].iterrows():\n",
    "    prev_row = filtered_df[(filtered_df['tic'] == row['tic']) & (filtered_df['fyearq'] == row['fyearq'] - 1) & (filtered_df['fqtr'] == row['fqtr'])]\n",
    "    if not prev_row.empty:\n",
    "        prev_rdq = prev_row.iloc[0]['rdq']\n",
    "        if pd.notna(prev_rdq):\n",
    "            expected_date = prev_rdq + pd.DateOffset(weeks=52)\n",
    "            filtered_df.at[idx, 'expected_date'] = expected_date\n",
    "\n",
    "# Save the updated DataFrame to CSV\n",
    "filtered_df.to_csv('/Users/balmeru/Desktop/mediana_with_expected_dates.csv', index=False)\n"
   ]
  },
  {
   "cell_type": "code",
   "execution_count": 12,
   "id": "77835972-35c3-4891-a00b-c2a23f2b7ee6",
   "metadata": {},
   "outputs": [
    {
     "name": "stdout",
     "output_type": "stream",
     "text": [
      "Number of non-NA values in 'car': 785538\n"
     ]
    }
   ],
   "source": [
    "just_df = pd.read_csv('/Users/balmeru/Desktop/mediana_with_expected_dates.csv', parse_dates=['rdq'])\n",
    "non_na_count = just_df['expected_date'].notna().sum()\n",
    "\n",
    "print(f\"Number of non-NA values in 'car': {non_na_count}\")\n"
   ]
  },
  {
   "cell_type": "code",
   "execution_count": 13,
   "id": "9f1c3aaf-ec8e-4be3-95e2-4824e21960d1",
   "metadata": {},
   "outputs": [
    {
     "data": {
      "text/plain": [
       "963444"
      ]
     },
     "execution_count": 13,
     "metadata": {},
     "output_type": "execute_result"
    }
   ],
   "source": [
    "len(just_df)"
   ]
  },
  {
   "cell_type": "code",
   "execution_count": 14,
   "id": "4d84a68f-c0e5-4b58-ad1f-619ec7aedff0",
   "metadata": {},
   "outputs": [
    {
     "data": {
      "text/plain": [
       "0.8153437044602488"
      ]
     },
     "execution_count": 14,
     "metadata": {},
     "output_type": "execute_result"
    }
   ],
   "source": [
    "785538/963444"
   ]
  },
  {
   "cell_type": "code",
   "execution_count": null,
   "id": "edf017a7-9586-4a9d-8ec2-0a4fc1d8c4a8",
   "metadata": {},
   "outputs": [],
   "source": []
  }
 ],
 "metadata": {
  "kernelspec": {
   "display_name": "Python 3 (ipykernel)",
   "language": "python",
   "name": "python3"
  },
  "language_info": {
   "codemirror_mode": {
    "name": "ipython",
    "version": 3
   },
   "file_extension": ".py",
   "mimetype": "text/x-python",
   "name": "python",
   "nbconvert_exporter": "python",
   "pygments_lexer": "ipython3",
   "version": "3.11.7"
  }
 },
 "nbformat": 4,
 "nbformat_minor": 5
}
