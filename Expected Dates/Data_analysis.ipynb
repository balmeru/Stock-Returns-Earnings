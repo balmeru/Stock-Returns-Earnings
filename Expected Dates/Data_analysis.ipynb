{
 "cells": [
  {
   "cell_type": "code",
   "execution_count": 1,
   "id": "ac486c1f-fd29-4a20-9441-5bb9cb586e90",
   "metadata": {},
   "outputs": [
    {
     "name": "stdout",
     "output_type": "stream",
     "text": [
      "      tic  fyearq  fqtr        rdq   diff\n",
      "0   0015B    1983     3        NaT    NaN\n",
      "1   0015B    1983     4 1984-01-16    NaN\n",
      "2   0015B    1984     1 1984-03-15   59.0\n",
      "3   0015B    1984     2 1984-05-25   71.0\n",
      "4   0015B    1984     3 1984-08-27   94.0\n",
      "..    ...     ...   ...        ...    ...\n",
      "20   ZZZ1    1999     2 1999-07-21   91.0\n",
      "21   ZZZ1    1999     3 1999-10-18   89.0\n",
      "22   ZZZ1    1999     4 2000-01-26  100.0\n",
      "23   ZZZ1    2000     1 2000-04-26   91.0\n",
      "24   ZZZ1    2000     2 2000-08-14  110.0\n",
      "\n",
      "[1075450 rows x 5 columns]\n"
     ]
    }
   ],
   "source": [
    "import pandas as pd\n",
    "import numpy as np\n",
    "from datetime import timedelta\n",
    "\n",
    "# Load the data\n",
    "csv_file_path = \"/Users/balmeru/Downloads/handle_missing_values.csv\"\n",
    "df = pd.read_csv(csv_file_path)\n",
    "df['rdq'] = pd.to_datetime(df['rdq'], errors='coerce')  # Coerce errors to handle invalid dates\n",
    "\n",
    "def calculate_diff(group):\n",
    "    group = group.sort_values(['fyearq', 'fqtr']).reset_index(drop=True)\n",
    "   \n",
    "    # Create a new column to store the difference\n",
    "    group['diff'] = np.nan\n",
    "\n",
    "    # Loop through the rows in the group to check valid consecutive quarters\n",
    "    for i in range(1, len(group)):\n",
    "        # Check if the current quarter is one after the previous quarter\n",
    "        if (group['fqtr'].iloc[i] == group['fqtr'].iloc[i - 1] + 1 and\n",
    "            group['fyearq'].iloc[i] == group['fyearq'].iloc[i - 1]):\n",
    "            # Calculate the difference if valid\n",
    "            group['diff'].iloc[i] = (group['rdq'].iloc[i] - group['rdq'].iloc[i - 1]).days\n",
    "       \n",
    "        # Check for the transition from Q4 to Q1 of the next year\n",
    "        elif (group['fqtr'].iloc[i] == 1 and\n",
    "              group['fqtr'].iloc[i - 1] == 4 and\n",
    "              group['fyearq'].iloc[i] == group['fyearq'].iloc[i - 1] + 1):\n",
    "            # Calculate the difference if valid\n",
    "            group['diff'].iloc[i] = (group['rdq'].iloc[i] - group['rdq'].iloc[i - 1]).days\n",
    "\n",
    "    return group\n",
    "\n",
    "# Apply the function to calculate differences per ticker group\n",
    "df = df.groupby('tic', group_keys=False).apply(calculate_diff)\n",
    "\n",
    "# Invalidate differences where fiscal year change occurred\n",
    "df.loc[df['fyr_change_dummy'] == 1, 'diff'] = np.nan\n",
    "\n",
    "# Display the updated DataFrame with calculated differences\n",
    "print(df[['tic', 'fyearq', 'fqtr', 'rdq', 'diff']])"
   ]
  },
  {
   "cell_type": "code",
   "execution_count": 2,
   "id": "3fbe4c07-da77-4f51-902b-a10a54526ab4",
   "metadata": {},
   "outputs": [],
   "source": [
    "# Separate quarterly and annual reports\n",
    "df['quarterly_report'] = (df['fqtr'].isin([1, 2, 3])).astype(int)\n",
    "df['annual_report'] = (df['fqtr'] == 4).astype(int)\n",
    "\n",
    "# Calculate distances for quarterly and annual reports\n",
    "df['quarter_distance'] = df['diff'].where(df['quarterly_report'] == 1, np.nan)\n",
    "df['annual_distance'] = df['diff'].where(df['annual_report'] == 1, np.nan)\n"
   ]
  },
  {
   "cell_type": "code",
   "execution_count": 3,
   "id": "70241935-d1be-4872-93f7-7cc476059be7",
   "metadata": {},
   "outputs": [],
   "source": [
    "df['market_cap'] = df['prccq'] / df['ajexq'] * df['cshoq']\n",
    "\n",
    "# Define upper and lower bounds (80%-120% of market cap) for similar-cap companies\n",
    "df['lower_bound'] = 0.8 * df['market_cap']\n",
    "df['upper_bound'] = 1.2 * df['market_cap']\n"
   ]
  },
  {
   "cell_type": "code",
   "execution_count": 4,
   "id": "8ecbc832-90ca-49e2-8be9-3fd1058dc78a",
   "metadata": {},
   "outputs": [],
   "source": [
    "df.to_csv('/Users/balmeru/Downloads/with_diff.csv', index=False)"
   ]
  },
  {
   "cell_type": "code",
   "execution_count": 5,
   "id": "b9b3f207-0227-4ac0-9f52-51f09e446bf3",
   "metadata": {},
   "outputs": [
    {
     "name": "stdout",
     "output_type": "stream",
     "text": [
      "Number of missing market capitalizations: 13548\n",
      "Percentage of missing market capitalizations: 1.26%\n"
     ]
    }
   ],
   "source": [
    "missing_market_cap_count = df['market_cap'].isnull().sum()\n",
    "\n",
    "# Calculate the total number of rows in the dataframe\n",
    "total_rows = len(df)\n",
    "\n",
    "\n",
    "\n",
    "# Calculate the percentage of missing market_cap values\n",
    "missing_market_cap_percentage = (missing_market_cap_count / total_rows) * 100\n",
    "\n",
    "# Display the results\n",
    "print(f\"Number of missing market capitalizations: {missing_market_cap_count}\")\n",
    "print(f\"Percentage of missing market capitalizations: {missing_market_cap_percentage:.2f}%\")\n"
   ]
  },
  {
   "cell_type": "code",
   "execution_count": null,
   "id": "4b41031f-9352-4282-bc05-7a9dc0a710ff",
   "metadata": {},
   "outputs": [],
   "source": []
  },
  {
   "cell_type": "code",
   "execution_count": null,
   "id": "c5506303-e663-48b1-9b57-432d20afcd1d",
   "metadata": {},
   "outputs": [],
   "source": []
  },
  {
   "cell_type": "code",
   "execution_count": null,
   "id": "826741f1-ca42-4b16-87f1-14a8766f5abe",
   "metadata": {},
   "outputs": [],
   "source": []
  },
  {
   "cell_type": "code",
   "execution_count": null,
   "id": "2831e4ef-0161-4e57-8bb9-27bfed687995",
   "metadata": {},
   "outputs": [],
   "source": []
  }
 ],
 "metadata": {
  "kernelspec": {
   "display_name": "Python 3 (ipykernel)",
   "language": "python",
   "name": "python3"
  },
  "language_info": {
   "codemirror_mode": {
    "name": "ipython",
    "version": 3
   },
   "file_extension": ".py",
   "mimetype": "text/x-python",
   "name": "python",
   "nbconvert_exporter": "python",
   "pygments_lexer": "ipython3",
   "version": "3.11.7"
  }
 },
 "nbformat": 4,
 "nbformat_minor": 5
}
