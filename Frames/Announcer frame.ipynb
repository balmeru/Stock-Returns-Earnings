{
 "cells": [
  {
   "cell_type": "code",
   "execution_count": 2,
   "id": "7490a7dd-de3a-4460-8b23-91e5da5ed453",
   "metadata": {},
   "outputs": [
    {
     "name": "stdout",
     "output_type": "stream",
     "text": [
      "Announcer frame has been created and saved to /Users/balmeru/Desktop/announcer_frame.csv.\n"
     ]
    }
   ],
   "source": [
    "import pandas as pd\n",
    "\n",
    "# Load the CSV file\n",
    "file_path = '/Users/balmeru/Desktop/mediana_with_expected_dates.csv'\n",
    "df = pd.read_csv(file_path)\n",
    "\n",
    "# Ensure the expected_date column is in datetime format\n",
    "df['expected_date'] = pd.to_datetime(df['expected_date'], errors='coerce')\n",
    "\n",
    "# Drop rows with NaT in expected_date and keep only unique tic values\n",
    "df.dropna(subset=['expected_date'], inplace=True)\n",
    "tickers = df['tic'].unique()\n",
    "\n",
    "# Generate a date range for all Mondays from Jan 1, 1984, to Dec 31, 2012\n",
    "date_range = pd.date_range(start='1984-01-01', end='2012-12-31', freq='W-MON')\n",
    "\n",
    "# Create the announcer frame initialized with 0s\n",
    "announcer_frame = pd.DataFrame(0, index=date_range, columns=tickers)\n",
    "\n",
    "# Populate the announcer frame based on expected dates\n",
    "for _, row in df.iterrows():\n",
    "    expected_date = row['expected_date']\n",
    "    # Find the Monday of the week for the expected_date\n",
    "    week_start = expected_date - pd.Timedelta(days=expected_date.weekday())\n",
    "    if week_start in announcer_frame.index:\n",
    "        announcer_frame.at[week_start, row['tic']] = 1  # Use .at for fast access\n",
    "\n",
    "# Drop columns that contain only 0s\n",
    "announcer_frame = announcer_frame.loc[:, (announcer_frame != 0).any(axis=0)]\n",
    "\n",
    "# Save the announcer frame to a new CSV file\n",
    "output_file_path = '/Users/balmeru/Desktop/announcer_frame.csv'\n",
    "announcer_frame.to_csv(output_file_path)\n",
    "\n",
    "print(f\"Announcer frame has been created and saved to {output_file_path}.\")\n"
   ]
  },
  {
   "cell_type": "code",
   "execution_count": 4,
   "id": "da2d1634-ecfa-403e-9091-148df476e1e3",
   "metadata": {},
   "outputs": [
    {
     "name": "stdout",
     "output_type": "stream",
     "text": [
      "The CSV file has 1514 rows and 15035 columns.\n"
     ]
    }
   ],
   "source": [
    "output_file_path = '/Users/balmeru/Desktop/announcer_frame.csv'\n",
    "\n",
    "# Load the CSV file into a DataFrame\n",
    "df = pd.read_csv(output_file_path)\n",
    "num_rows, num_columns = df.shape\n",
    "\n",
    "# Display the result\n",
    "print(f\"The CSV file has {num_rows} rows and {num_columns} columns.\")\n"
   ]
  },
  {
   "cell_type": "code",
   "execution_count": 5,
   "id": "9d1ff402-b217-402c-872c-eeec6230cfad",
   "metadata": {},
   "outputs": [
    {
     "data": {
      "text/plain": [
       "1508"
      ]
     },
     "execution_count": 5,
     "metadata": {},
     "output_type": "execute_result"
    }
   ],
   "source": [
    "52*29\n"
   ]
  },
  {
   "cell_type": "code",
   "execution_count": 6,
   "id": "916b486a-a541-40dd-b6ef-a4bd7d750187",
   "metadata": {},
   "outputs": [
    {
     "data": {
      "text/plain": [
       "22762990"
      ]
     },
     "execution_count": 6,
     "metadata": {},
     "output_type": "execute_result"
    }
   ],
   "source": [
    "1514*15035"
   ]
  },
  {
   "cell_type": "code",
   "execution_count": null,
   "id": "540502f6-5d15-49fa-965e-ba93e46be8e7",
   "metadata": {},
   "outputs": [],
   "source": []
  }
 ],
 "metadata": {
  "kernelspec": {
   "display_name": "Python 3 (ipykernel)",
   "language": "python",
   "name": "python3"
  },
  "language_info": {
   "codemirror_mode": {
    "name": "ipython",
    "version": 3
   },
   "file_extension": ".py",
   "mimetype": "text/x-python",
   "name": "python",
   "nbconvert_exporter": "python",
   "pygments_lexer": "ipython3",
   "version": "3.11.7"
  }
 },
 "nbformat": 4,
 "nbformat_minor": 5
}
