{
 "cells": [
  {
   "cell_type": "code",
   "execution_count": 2,
   "id": "01a96e48-7b63-4c77-9c56-8f0bb06326ed",
   "metadata": {},
   "outputs": [
    {
     "name": "stdout",
     "output_type": "stream",
     "text": [
      "Non-announcer frame has been created and saved to /Users/balmeru/Desktop/non_announcer_frame.csv.\n"
     ]
    }
   ],
   "source": [
    "import pandas as pd\n",
    "\n",
    "# Load the CSV file\n",
    "file_path = '/Users/balmeru/Desktop/mediana_with_expected_dates.csv'\n",
    "df = pd.read_csv(file_path)\n",
    "\n",
    "# Ensure the expected_date column is in datetime format\n",
    "df['expected_date'] = pd.to_datetime(df['expected_date'], errors='coerce')\n",
    "\n",
    "# Drop rows with NaT in expected_date and keep only unique tic values\n",
    "df.dropna(subset=['expected_date'], inplace=True)\n",
    "tickers = df['tic'].unique()\n",
    "\n",
    "# Generate a date range for all Mondays from Jan 1, 1984, to Dec 31, 2012\n",
    "date_range = pd.date_range(start='1984-01-01', end='2012-12-31', freq='W-MON')\n",
    "\n",
    "# Create the non_announcer frame initialized with 1s\n",
    "non_announcer_frame = pd.DataFrame(1, index=date_range, columns=tickers)\n",
    "\n",
    "# Populate the non_announcer frame: set to 0 for announcement weeks\n",
    "for _, row in df.iterrows():\n",
    "    expected_date = row['expected_date']\n",
    "    # Find the Monday of the week for the expected_date\n",
    "    week_start = expected_date - pd.Timedelta(days=expected_date.weekday())\n",
    "    if week_start in non_announcer_frame.index:\n",
    "        non_announcer_frame.at[week_start, row['tic']] = 0  # Set to 0 for the announcement week\n",
    "\n",
    "# Drop columns that contain only 1s (tickers with no announcements)\n",
    "non_announcer_frame = non_announcer_frame.loc[:, (non_announcer_frame != 1).any(axis=0)]\n",
    "\n",
    "# Save the non_announcer frame to a new CSV file\n",
    "output_file_path = '/Users/balmeru/Desktop/non_announcer_frame.csv'\n",
    "non_announcer_frame.to_csv(output_file_path)\n",
    "\n",
    "print(f\"Non-announcer frame has been created and saved to {output_file_path}.\")"
   ]
  },
  {
   "cell_type": "code",
   "execution_count": 3,
   "id": "4484c6e5-9db5-4e37-aa07-935de90af4d7",
   "metadata": {},
   "outputs": [
    {
     "name": "stdout",
     "output_type": "stream",
     "text": [
      "The CSV file has 1514 rows and 15035 columns.\n"
     ]
    }
   ],
   "source": [
    "output_file_path = '/Users/balmeru/Desktop/non_announcer_frame.csv'\n",
    "\n",
    "# Load the CSV file into a DataFrame\n",
    "df = pd.read_csv(output_file_path)\n",
    "num_rows, num_columns = df.shape\n",
    "\n",
    "# Display the result\n",
    "print(f\"The CSV file has {num_rows} rows and {num_columns} columns.\")\n"
   ]
  },
  {
   "cell_type": "code",
   "execution_count": null,
   "id": "b6195721-a6bf-4ad7-bcbe-0b71d666e45e",
   "metadata": {},
   "outputs": [],
   "source": []
  }
 ],
 "metadata": {
  "kernelspec": {
   "display_name": "Python 3 (ipykernel)",
   "language": "python",
   "name": "python3"
  },
  "language_info": {
   "codemirror_mode": {
    "name": "ipython",
    "version": 3
   },
   "file_extension": ".py",
   "mimetype": "text/x-python",
   "name": "python",
   "nbconvert_exporter": "python",
   "pygments_lexer": "ipython3",
   "version": "3.11.7"
  }
 },
 "nbformat": 4,
 "nbformat_minor": 5
}
