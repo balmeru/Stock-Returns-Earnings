{
 "cells": [
  {
   "cell_type": "code",
   "execution_count": 1,
   "id": "d27ed686-6817-4385-a6ab-3e5631f295ad",
   "metadata": {},
   "outputs": [
    {
     "name": "stdout",
     "output_type": "stream",
     "text": [
      "Combined DataFrame saved to /Users/balmeru/Desktop/combined_returns_summary.csv\n",
      "Summary statistics saved to /Users/balmeru/Desktop/summary_statistics.csv\n"
     ]
    }
   ],
   "source": [
    "import pandas as pd\n",
    "import numpy as np\n",
    "from scipy import stats\n",
    "\n",
    "# Load the two CSV files\n",
    "announcer_returns_path = \"/Users/balmeru/Desktop/announcer_returns.csv\"\n",
    "non_announcer_returns_path = \"/Users/balmeru/Desktop/non_announcer_returns.csv\"\n",
    "\n",
    "announcer_returns = pd.read_csv(announcer_returns_path, index_col=0)\n",
    "non_announcer_returns = pd.read_csv(non_announcer_returns_path, index_col=0)\n",
    "\n",
    "# Extract the 'Average Return' columns and rename them\n",
    "ann = announcer_returns['Average Return']\n",
    "non_ann = non_announcer_returns['Average Return']\n",
    "\n",
    "# Create a new DataFrame with the required columns\n",
    "result_df = pd.DataFrame({\n",
    "    'Ann': ann,\n",
    "    'Non-Ann': non_ann\n",
    "})\n",
    "\n",
    "# Calculate the 'Ann-Non' column\n",
    "result_df['Ann-Non'] = result_df['Ann'] - result_df['Non-Ann']\n",
    "\n",
    "# Calculate the count of non-empty columns minus 1 for both DataFrames\n",
    "result_df['N(Ann)'] = announcer_returns.notnull().sum(axis=1) - 1\n",
    "result_df['N(Non)'] = non_announcer_returns.notnull().sum(axis=1) - 1\n",
    "\n",
    "# Calculate summary statistics for the new DataFrame\n",
    "summary_stats = result_df.describe(percentiles=[0.1, 0.9]).transpose()\n",
    "summary_stats['Median'] = result_df.median()  # Add median\n",
    "summary_stats['t_stat'] = [stats.ttest_1samp(result_df[col], 0)[0] for col in result_df.columns]  # t-statistics\n",
    "summary_stats['SD'] = result_df.std()  # Standard deviation\n",
    "summary_stats['Ske w'] = result_df.skew()  # Skewness\n",
    "summary_stats['Kurt'] = result_df.kurtosis()  # Kurtosis\n",
    "summary_stats['n'] = result_df.count()  # Count of non-NaN values\n",
    "\n",
    "# Rename summary statistics for better readability\n",
    "summary_stats = summary_stats.rename(columns={\n",
    "    'mean': 'Mean',\n",
    "    '50%': 'Median',\n",
    "    'min': 'Min',\n",
    "    '10%': 'Perc. 10',\n",
    "    '90%': 'Perc. 90',\n",
    "    'max': 'Max',\n",
    "    't_stat': 't stat',\n",
    "    'std': 'SD',\n",
    "    'skew': 'Ske w',\n",
    "    'kurt': 'Kurt'\n",
    "})\n",
    "\n",
    "# Save the result DataFrame to a new CSV file\n",
    "output_csv_path = \"/Users/balmeru/Desktop/combined_returns_summary.csv\"\n",
    "result_df.to_csv(output_csv_path, index=True)\n",
    "\n",
    "# Save summary statistics to a separate CSV file\n",
    "summary_stats_output_path = \"/Users/balmeru/Desktop/summary_statistics.csv\"\n",
    "summary_stats.to_csv(summary_stats_output_path)\n",
    "\n",
    "print(f\"Combined DataFrame saved to {output_csv_path}\")\n",
    "print(f\"Summary statistics saved to {summary_stats_output_path}\")"
   ]
  },
  {
   "cell_type": "code",
   "execution_count": 2,
   "id": "643b42eb-15a7-494e-aeca-a231d0dfaf1a",
   "metadata": {},
   "outputs": [
    {
     "name": "stdout",
     "output_type": "stream",
     "text": [
      "          count         Mean          SD        Min     Perc. 10       Median  \\\n",
      "Ann      1501.0     0.445098    2.724936 -18.231902    -2.628271     0.554390   \n",
      "Non-Ann  1501.0     0.342090    2.576801 -18.608154    -2.409437     0.447673   \n",
      "Ann-Non  1501.0     0.103009    1.178730 -11.205356    -1.067719     0.056734   \n",
      "N(Ann)   1503.0   287.271457  269.284129  -1.000000    60.000000   179.000000   \n",
      "N(Non)   1503.0  4335.592149  921.523742  -1.000000  3260.000000  4169.000000   \n",
      "\n",
      "            Perc. 90          Max       Median     t stat          SD  \\\n",
      "Ann         3.401230    17.170837     0.554390        NaN    2.724936   \n",
      "Non-Ann     2.812752    17.230486     0.447673        NaN    2.576801   \n",
      "Ann-Non     1.359053     7.487928     0.056734        NaN    1.178730   \n",
      "N(Ann)    682.400000  1258.000000   179.000000   41.35816  269.284129   \n",
      "N(Non)   5750.400000  6434.000000  4169.000000  182.39855  921.523742   \n",
      "\n",
      "            Ske w      Kurt     n  \n",
      "Ann     -0.414788  5.099451  1501  \n",
      "Non-Ann -0.590314  8.479668  1501  \n",
      "Ann-Non  0.152727  9.960818  1501  \n",
      "N(Ann)   1.354511  1.170272  1503  \n",
      "N(Non)   0.260301 -0.199473  1503  \n"
     ]
    }
   ],
   "source": [
    "print(summary_stats)"
   ]
  },
  {
   "cell_type": "code",
   "execution_count": null,
   "id": "deaf501f-785c-4537-82ed-1a5a82bf2120",
   "metadata": {},
   "outputs": [],
   "source": []
  }
 ],
 "metadata": {
  "kernelspec": {
   "display_name": "Python 3 (ipykernel)",
   "language": "python",
   "name": "python3"
  },
  "language_info": {
   "codemirror_mode": {
    "name": "ipython",
    "version": 3
   },
   "file_extension": ".py",
   "mimetype": "text/x-python",
   "name": "python",
   "nbconvert_exporter": "python",
   "pygments_lexer": "ipython3",
   "version": "3.11.7"
  }
 },
 "nbformat": 4,
 "nbformat_minor": 5
}
