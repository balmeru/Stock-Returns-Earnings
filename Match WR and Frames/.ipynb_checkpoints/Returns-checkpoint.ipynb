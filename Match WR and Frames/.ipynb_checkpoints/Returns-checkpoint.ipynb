{
 "cells": [
  {
   "cell_type": "code",
   "execution_count": 1,
   "id": "c93555f1-cedf-488c-8508-e46d4f54a8e2",
   "metadata": {},
   "outputs": [
    {
     "name": "stdout",
     "output_type": "stream",
     "text": [
      "The Announcer Frame has been created and saved to /Users/balmeru/Downloads/announcer_returns.csv\n"
     ]
    }
   ],
   "source": [
    "import pandas as pd\n",
    "import numpy as np\n",
    "\n",
    "# File paths\n",
    "returns_csv_path = \"/Users/balmeru/Desktop/merged_WR.csv\"  \n",
    "announcement_csv_path = \"/Users/balmeru/Desktop/announcer_frame.csv\"\n",
    "\n",
    "# Read the CSV files into DataFrames\n",
    "returns_pivot = pd.read_csv(returns_csv_path, index_col=0)  \n",
    "announcement_pivot = pd.read_csv(announcement_csv_path, index_col=0)\n",
    "\n",
    "# Convert indexes to datetime for proper alignment\n",
    "returns_pivot.index = pd.to_datetime(returns_pivot.index, errors='raise')\n",
    "announcement_pivot.index = pd.to_datetime(announcement_pivot.index, errors='raise')\n",
    "\n",
    "# Find the common index and columns between the two DataFrames\n",
    "common_index = returns_pivot.index.intersection(announcement_pivot.index)\n",
    "common_columns = returns_pivot.columns.intersection(announcement_pivot.columns)\n",
    "\n",
    "# If there are no common indexes or columns, raise an error\n",
    "if common_index.empty or common_columns.empty:\n",
    "    raise ValueError(\"No common indexes or columns between returns_pivot and announcement_pivot.\")\n",
    "\n",
    "# Reindex both DataFrames to the common index and select only the common columns\n",
    "returns_pivot = returns_pivot.loc[common_index, common_columns]\n",
    "announcement_pivot = announcement_pivot.loc[common_index, common_columns]\n",
    "\n",
    "# Create the announcer_frame by copying returns_pivot and masking where announcement_pivot is NOT True\n",
    "# If announcement_pivot contains boolean values, this ensures NaN where the value is not True\n",
    "announcer_frame = returns_pivot.where(announcement_pivot == True)\n",
    "\n",
    "# Calculate the average return across rows, skipping NaN values\n",
    "announcer_frame['Average Return'] = announcer_frame.mean(axis=1, skipna=True)\n",
    "\n",
    "# Save the resulting DataFrame to a CSV file, including the index\n",
    "output_csv_path = \"/Users/balmeru/Downloads/announcer_returns.csv\"\n",
    "announcer_frame.to_csv(output_csv_path, index=True)\n",
    "\n",
    "# Confirm successful completion\n",
    "print(f\"The Announcer Frame has been created and saved to {output_csv_path}\")\n"
   ]
  },
  {
   "cell_type": "code",
   "execution_count": null,
   "id": "120046d8-0be6-462b-ae4e-d86602442f08",
   "metadata": {},
   "outputs": [],
   "source": [
    "import pandas as pd\n",
    "import numpy as np\n",
    "\n",
    "# File paths\n",
    "returns_csv_path = \"/Users/balmeru/Desktop/merged_WR.csv\"  \n",
    "announcement_csv_path = \"/Users/balmeru/Desktop/announcer_frame.csv\"\n",
    "\n",
    "# Read the CSV files into DataFrames\n",
    "returns_pivot = pd.read_csv(returns_csv_path, index_col=0)  \n",
    "announcement_pivot = pd.read_csv(announcement_csv_path, index_col=0)\n",
    "\n",
    "# Convert indexes to datetime for proper alignment\n",
    "returns_pivot.index = pd.to_datetime(returns_pivot.index, errors='raise')\n",
    "announcement_pivot.index = pd.to_datetime(announcement_pivot.index, errors='raise')\n",
    "\n",
    "# Find the common index and columns between the two DataFrames\n",
    "common_index = returns_pivot.index.intersection(announcement_pivot.index)\n",
    "common_columns = returns_pivot.columns.intersection(announcement_pivot.columns)\n",
    "\n",
    "# If there are no common indexes or columns, raise an error\n",
    "if common_index.empty or common_columns.empty:\n",
    "    raise ValueError(\"No common indexes or columns between returns_pivot and announcement_pivot.\")\n",
    "\n",
    "# Reindex both DataFrames to the common index and select only the common columns\n",
    "returns_pivot = returns_pivot.loc[common_index, common_columns]\n",
    "announcement_pivot = announcement_pivot.loc[common_index, common_columns]\n",
    "\n",
    "# Create the announcer_frame by copying returns_pivot and masking where announcement_pivot is NOT True\n",
    "# If announcement_pivot contains boolean values, this ensures NaN where the value is not True\n",
    "announcer_frame = returns_pivot.where(announcement_pivot == True)\n",
    "\n",
    "# Calculate the average return across rows, skipping NaN values\n",
    "announcer_frame['Average Return'] = announcer_frame.mean(axis=1, skipna=True)\n",
    "\n",
    "# Save the resulting DataFrame to a CSV file, including the index\n",
    "output_csv_path = \"/Users/balmeru/Desktop/announcer_returns.csv\"\n",
    "announcer_frame.to_csv(output_csv_path, index=True)\n",
    "\n",
    "# Confirm successful completion\n",
    "print(f\"The Announcer Frame has been created and saved to {output_csv_path}\")\n"
   ]
  }
 ],
 "metadata": {
  "kernelspec": {
   "display_name": "Python 3 (ipykernel)",
   "language": "python",
   "name": "python3"
  },
  "language_info": {
   "codemirror_mode": {
    "name": "ipython",
    "version": 3
   },
   "file_extension": ".py",
   "mimetype": "text/x-python",
   "name": "python",
   "nbconvert_exporter": "python",
   "pygments_lexer": "ipython3",
   "version": "3.11.7"
  }
 },
 "nbformat": 4,
 "nbformat_minor": 5
}
